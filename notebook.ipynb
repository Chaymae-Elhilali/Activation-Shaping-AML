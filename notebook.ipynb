{
 "cells": [
  {
   "cell_type": "code",
   "execution_count": 1,
   "metadata": {},
   "outputs": [
    {
     "name": "stdout",
     "output_type": "stream",
     "text": [
      "Applied to 1 layers\n",
      "100%|███████████████████████████████████████████| 16/16 [00:05<00:00,  3.19it/s]\n",
      "100%|███████████████████████████████████████████| 14/14 [00:01<00:00,  8.06it/s]\n",
      "100%|███████████████████████████████████████████| 19/19 [00:02<00:00,  8.15it/s]\n",
      "100%|███████████████████████████████████████████| 31/31 [00:03<00:00,  8.25it/s]\n",
      "Traceback (most recent call last):\n",
      "  File \"/home/marco/Activation-Shaping-AML/main.py\", line 240, in <module>\n",
      "    main()\n",
      "  File \"/home/marco/Activation-Shaping-AML/main.py\", line 187, in main\n",
      "    train(model, data)\n",
      "  File \"/home/marco/Activation-Shaping-AML/main.py\", line 124, in train\n",
      "    model.disable_hooks()\n",
      "  File \"/home/marco/Activation-Shaping-AML/models/resnet.py\", line 18, in disable_hooks\n",
      "    self.all_layers[index].register_forward_hook(None)\n",
      "TypeError: list indices must be integers or slices, not Conv2d\n",
      "^C\n",
      "Exception ignored in atexit callback: <function _MultiProcessingDataLoaderIter._clean_up_worker at 0x7f53ffee8b80>\n",
      "Traceback (most recent call last):\n",
      "  File \"/home/marco/.local/lib/python3.10/site-packages/torch/utils/data/dataloader.py\", line 1472, in _clean_up_worker\n",
      "    w.join(timeout=_utils.MP_STATUS_CHECK_INTERVAL)\n",
      "  File \"/usr/lib/python3.10/multiprocessing/process.py\", line 149, in join\n",
      "    res = self._popen.wait(timeout)\n",
      "  File \"/usr/lib/python3.10/multiprocessing/popen_fork.py\", line 40, in wait\n",
      "    if not wait([self.sentinel], timeout):\n",
      "  File \"/usr/lib/python3.10/multiprocessing/connection.py\", line 931, in wait\n",
      "    ready = selector.select(timeout)\n",
      "  File \"/usr/lib/python3.10/selectors.py\", line 416, in select\n",
      "    fd_event_list = self._selector.poll(timeout)\n",
      "KeyboardInterrupt: \n",
      "Applied to 2 layers\n",
      "100%|███████████████████████████████████████████| 16/16 [00:06<00:00,  2.65it/s]\n",
      "100%|███████████████████████████████████████████| 14/14 [00:01<00:00,  7.15it/s]\n",
      "100%|███████████████████████████████████████████| 19/19 [00:02<00:00,  6.99it/s]\n",
      "  0%|                                                    | 0/31 [00:00<?, ?it/s]"
     ]
    }
   ],
   "source": [
    "import os\n",
    "def check_if_experiment_already_run(ALPHA, APPLY_EVERY_N, SKIP_FIRST_N, EXP_TARGET):\n",
    "  LOG_FILENAME = f\"SKIP_{SKIP_FIRST_N}_ALPHA_{ALPHA}-APPLY_EVERY_N_{APPLY_EVERY_N}-log.txt\"\n",
    "  LOG_PATH = os.path.join(f\"record/activation_shaping_experiments/{EXP_TARGET}\", LOG_FILENAME)\n",
    "  return os.path.exists(LOG_PATH)\n",
    "\n",
    "def run_experiment(category, alphas, apply_every_n_list, skip_first_n_list):\n",
    "  for alpha in alphas:\n",
    "    for apply_every_n in apply_every_n_list:\n",
    "      for skip_first_n in skip_first_n_list:\n",
    "        if (not check_if_experiment_already_run(alpha, apply_every_n, skip_first_n, category)):\n",
    "          !launch_scripts/activation_shaping_experiments.sh {category} \"\" \"{alpha}\" \"{apply_every_n}\" \"{skip_first_n}\"\n",
    "        else:\n",
    "          print(\"Already existing\")\n",
    "\n",
    "          \n",
    "\n",
    "alphas = [0.9, 0.8, 0.6, 0.4]\n",
    "apply_every_n_list = [0, 1, 2]\n",
    "skip_first_n_list = [15, 14, 13, 10, 4 ]\n",
    "run_experiment(\"photo,cartoon,sketch\", alphas, apply_every_n_list, skip_first_n_list)"
   ]
  },
  {
   "cell_type": "code",
   "execution_count": null,
   "metadata": {},
   "outputs": [],
   "source": [
    "!./launch_scripts/domain_adaptation.sh \"cartoon\" \"\" 0 2 14 \"threshold\"\n",
    "!./launch_scripts/domain_adaptation.sh \"cartoon\" \"\" 0.2 2 14 \"topk\""
   ]
  }
 ],
 "metadata": {
  "kernelspec": {
   "display_name": "Python 3",
   "language": "python",
   "name": "python3"
  },
  "language_info": {
   "codemirror_mode": {
    "name": "ipython",
    "version": 3
   },
   "file_extension": ".py",
   "mimetype": "text/x-python",
   "name": "python",
   "nbconvert_exporter": "python",
   "pygments_lexer": "ipython3",
   "version": "3.10.12"
  }
 },
 "nbformat": 4,
 "nbformat_minor": 2
}
