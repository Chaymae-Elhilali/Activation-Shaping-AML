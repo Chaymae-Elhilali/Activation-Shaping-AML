{
 "cells": [
  {
   "cell_type": "code",
   "execution_count": null,
   "metadata": {},
   "outputs": [],
   "source": [
    "import os\n",
    "def check_if_experiment_already_run(ALPHA, APPLY_EVERY_N, SKIP_FIRST_N, EXP_TARGET):\n",
    "  LOG_FILENAME = f\"SKIP_{SKIP_FIRST_N}_ALPHA_{ALPHA}-APPLY_EVERY_N_{APPLY_EVERY_N}-log.txt\"\n",
    "  LOG_PATH = os.path.join(f\"record/activation_shaping_experiments/{EXP_TARGET}\", LOG_FILENAME)\n",
    "  return os.path.exists(LOG_PATH)\n",
    "\n",
    "def run_experiment(category, alphas, apply_every_n_list, skip_first_n_list):\n",
    "  for alpha in alphas:\n",
    "    for apply_every_n in apply_every_n_list:\n",
    "      for skip_first_n in skip_first_n_list:\n",
    "        if (not check_if_experiment_already_run(alpha, apply_every_n, skip_first_n, category)):\n",
    "          !launch_scripts/activation_shaping_experiments.sh {category} \"\" \"{alpha}\" \"{apply_every_n}\" \"{skip_first_n}\"\n",
    "        else:\n",
    "          print(\"Already existing\")\n",
    "\n",
    "          \n",
    "\n",
    "alphas = [1, 0.9, 0.8, 0.6, 0.4]\n",
    "apply_every_n_list = [0, 1, 2]\n",
    "skip_first_n_list = [15, 14, 13, 10, 4 ]\n",
    "run_experiment(\"photo,cartoon,sketch\", alphas, apply_every_n_list, skip_first_n_list)"
   ]
  },
  {
   "cell_type": "code",
   "execution_count": null,
   "metadata": {},
   "outputs": [],
   "source": [
    "!./launch_scripts/domain_adaptation.sh \"cartoon\" \"\" 0 2 14 \"threshold\"\n",
    "!./launch_scripts/domain_adaptation.sh \"cartoon\" \"\" 0.2 2 14 \"topk\""
   ]
  }
 ],
 "metadata": {
  "kernelspec": {
   "display_name": "Python 3",
   "language": "python",
   "name": "python3"
  },
  "language_info": {
   "codemirror_mode": {
    "name": "ipython",
    "version": 3
   },
   "file_extension": ".py",
   "mimetype": "text/x-python",
   "name": "python",
   "nbconvert_exporter": "python",
   "pygments_lexer": "ipython3",
   "version": "3.10.12"
  }
 },
 "nbformat": 4,
 "nbformat_minor": 2
}
