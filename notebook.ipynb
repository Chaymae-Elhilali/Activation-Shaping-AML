{
 "cells": [
  {
   "cell_type": "code",
   "execution_count": 1,
   "metadata": {},
   "outputs": [
    {
     "name": "stdout",
     "output_type": "stream",
     "text": [
      "Applied to 1 layers\n",
      "  0%|                                                    | 0/16 [00:00<?, ?it/s]^C\n",
      "Applied to 2 layers\n",
      "100%|███████████████████████████████████████████| 16/16 [00:05<00:00,  2.88it/s]\n",
      "100%|███████████████████████████████████████████| 14/14 [00:01<00:00,  8.08it/s]\n",
      " 37%|████████████████▏                           | 7/19 [00:01<00:01,  8.14it/s]"
     ]
    }
   ],
   "source": [
    "import os\n",
    "def check_if_experiment_already_run(ALPHA, APPLY_EVERY_N, SKIP_FIRST_N, EXP_TARGET):\n",
    "  LOG_FILENAME = f\"SKIP_{SKIP_FIRST_N}_ALPHA_{ALPHA}-APPLY_EVERY_N_{APPLY_EVERY_N}-log.txt\"\n",
    "  LOG_PATH = os.path.join(f\"record/activation_shaping_experiments/{EXP_TARGET}\", LOG_FILENAME)\n",
    "  return os.path.exists(LOG_PATH)\n",
    "\n",
    "def run_experiment(category, alphas, apply_every_n_list, skip_first_n_list):\n",
    "  for alpha in alphas:\n",
    "    for apply_every_n in apply_every_n_list:\n",
    "      for skip_first_n in skip_first_n_list:\n",
    "        if (not check_if_experiment_already_run(alpha, apply_every_n, skip_first_n, category)):\n",
    "          pass\n",
    "          #!launch_scripts/activation_shaping_experiments.sh {category} \"\" \"{alpha}\" \"{apply_every_n}\" \"{skip_first_n}\"\n",
    "        else:\n",
    "          print(\"Already existing\")\n",
    "\n",
    "          \n",
    "\n",
    "alphas = [1, 0.9, 0.8, 0.6, 0.4]\n",
    "apply_every_n_list = [0, 1, 2]\n",
    "skip_first_n_list = [15, 14, 13, 10, 4 ]\n",
    "run_experiment(\"photo,cartoon,sketch\", alphas, apply_every_n_list, skip_first_n_list)"
   ]
  }
 ],
 "metadata": {
  "kernelspec": {
   "display_name": "Python 3",
   "language": "python",
   "name": "python3"
  },
  "language_info": {
   "codemirror_mode": {
    "name": "ipython",
    "version": 3
   },
   "file_extension": ".py",
   "mimetype": "text/x-python",
   "name": "python",
   "nbconvert_exporter": "python",
   "pygments_lexer": "ipython3",
   "version": "3.10.12"
  }
 },
 "nbformat": 4,
 "nbformat_minor": 2
}
