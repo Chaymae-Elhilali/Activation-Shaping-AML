{
  "nbformat": 4,
  "nbformat_minor": 0,
  "metadata": {
    "colab": {
      "provenance": [],
      "include_colab_link": true
    },
    "kernelspec": {
      "name": "python3",
      "display_name": "Python 3"
    },
    "language_info": {
      "name": "python"
    }
  },
  "cells": [
    {
      "cell_type": "markdown",
      "metadata": {
        "id": "view-in-github",
        "colab_type": "text"
      },
      "source": [
        "<a href=\"https://colab.research.google.com/github/Chaymae-Elhilali/Activation-Shaping-AML/blob/master/AML_group.ipynb\" target=\"_parent\"><img src=\"https://colab.research.google.com/assets/colab-badge.svg\" alt=\"Open In Colab\"/></a>"
      ]
    },
    {
      "cell_type": "code",
      "source": [
        "from google.colab import drive\n",
        "drive.mount('/content/drive')\n",
        "#fffff\n",
        "#do you see me?\n",
        "#yes\n"
      ],
      "metadata": {
        "id": "E-bhnYz-HKfU",
        "colab": {
          "base_uri": "https://localhost:8080/"
        },
        "outputId": "7c5b4397-4104-42b0-81fa-0fef96f87e6e"
      },
      "execution_count": null,
      "outputs": [
        {
          "output_type": "stream",
          "name": "stdout",
          "text": [
            "Mounted at /content/drive\n"
          ]
        }
      ]
    },
    {
      "cell_type": "code",
      "source": [
        "\n",
        "# Specify the path to the zip file\n",
        "zip_path = '/content/drive/MyDrive/dataset/PACS.zip'\n",
        "\n",
        "# Specify the extraction path\n",
        "extract_path = '/content/PACS'\n",
        "\n",
        "# Unzip the folder\n",
        "!unzip \"$zip_path\" -d \"$extract_path\"\n"
      ],
      "metadata": {
        "id": "9okf7lMOLe1_"
      },
      "execution_count": null,
      "outputs": []
    },
    {
      "cell_type": "markdown",
      "source": [
        "Clone repository and prepare stuff"
      ],
      "metadata": {
        "id": "ogKj5wEhGbnt"
      }
    },
    {
      "cell_type": "code",
      "source": [
        "!git clone \"https://github.com/Chaymae-Elhilali/Activation-Shaping-AML\"\n"
      ],
      "metadata": {
        "id": "b_CjubV4GeXr",
        "colab": {
          "base_uri": "https://localhost:8080/"
        },
        "outputId": "ecc94924-6340-43d8-a93c-e63b71c1a4ac"
      },
      "execution_count": null,
      "outputs": [
        {
          "output_type": "stream",
          "name": "stdout",
          "text": [
            "Cloning into 'Activation-Shaping-AML'...\n",
            "remote: Enumerating objects: 31, done.\u001b[K\n",
            "remote: Counting objects: 100% (31/31), done.\u001b[K\n",
            "remote: Compressing objects: 100% (23/23), done.\u001b[K\n",
            "remote: Total 31 (delta 9), reused 17 (delta 2), pack-reused 0\u001b[K\n",
            "Receiving objects: 100% (31/31), 10.02 KiB | 10.02 MiB/s, done.\n",
            "Resolving deltas: 100% (9/9), done.\n"
          ]
        }
      ]
    }
  ]
}